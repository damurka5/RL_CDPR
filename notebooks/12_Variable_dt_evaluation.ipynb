{
 "cells": [
  {
   "cell_type": "markdown",
   "metadata": {},
   "source": [
    "# Hypothesis:\n",
    "- Control algorithms based on RL could work better for different (even huge enough) `dt`'s than PID controller."
   ]
  },
  {
   "cell_type": "markdown",
   "metadata": {},
   "source": [
    "## Imports and utility functions"
   ]
  },
  {
   "cell_type": "code",
   "execution_count": 3,
   "metadata": {},
   "outputs": [],
   "source": [
    "import os \n",
    "import torch\n",
    "import torch.nn as nn\n",
    "import torch.nn.functional as F \n",
    "import numpy as np\n",
    "import gym\n",
    "import warnings\n",
    "from tqdm import tqdm\n",
    "from torch.distributions.categorical import Categorical\n",
    "import matplotlib.pyplot as plt\n",
    "import numpy as np\n",
    "warnings.simplefilter(\"ignore\")\n",
    "from robot_model import *\n",
    "torch.manual_seed(42)\n",
    "np.random.seed(42)\n",
    "\n",
    "from stable_baselines3 import PPO, DDPG, TD3, SAC\n",
    "from sb3_contrib import TRPO\n",
    "from robot_model import CDPR4_env, CDPR4\n",
    "\n",
    "device = torch.device(\"cpu\")"
   ]
  },
  {
   "cell_type": "code",
   "execution_count": 4,
   "metadata": {},
   "outputs": [],
   "source": [
    "def plot_states(sol, t_span):\n",
    "    plt.figure(figsize=(10, 6))\n",
    "    plt.plot(t_span, sol[:,0], label='x')\n",
    "    plt.plot(t_span, sol[:,1], label='y')\n",
    "    plt.plot(t_span, sol[:,2], label='z')\n",
    "    # plt.plot(t_span, sol[:,3], label='dx')\n",
    "    # plt.plot(t_span, sol[:,4], label='dy')\n",
    "    # plt.plot(t_span, sol[:,5], label='dz')\n",
    "    plt.xlabel('Time')\n",
    "    plt.ylabel('State Variables')\n",
    "    plt.title('System')\n",
    "    plt.legend()\n",
    "    plt.grid(True)\n",
    "    plt.show()\n",
    "    \n",
    "def plot_position_error(actual_x, desired_x, t_span):\n",
    "    if desired_x.shape[0] == 3:\n",
    "        err = np.array([desired_x - actual_x[i, :3] for i in range(actual_x.shape[0])])\n",
    "        plt.figure(figsize=(10, 6))\n",
    "        plt.plot(t_span, err[:,0], label='x err')\n",
    "        plt.plot(t_span, err[:,1], label='y err')\n",
    "        plt.plot(t_span, err[:,2], label='z err')\n",
    "        plt.plot(t_span, [np.linalg.norm(i) for i in err], label='abs err')\n",
    "        plt.xlabel('Time')\n",
    "        plt.ylabel('State Variables')\n",
    "        plt.title('Position Errors')\n",
    "        plt.legend()\n",
    "        plt.grid(True)\n",
    "        plt.show()\n",
    "    else:\n",
    "        err = np.array([desired_x[i, :3] - actual_x[i, :3] for i in range(actual_x.shape[0])])\n",
    "        plt.figure(figsize=(10, 6))\n",
    "        plt.plot(t_span, err[:,0], label='x err')\n",
    "        plt.plot(t_span, err[:,1], label='y err')\n",
    "        plt.plot(t_span, err[:,2], label='z err')\n",
    "        plt.plot(t_span, [np.linalg.norm(i) for i in err], label='abs err')\n",
    "        plt.xlabel('Time')\n",
    "        plt.ylabel('State Variables')\n",
    "        plt.title('Position Errors')\n",
    "        plt.legend()\n",
    "        plt.grid(True)\n",
    "        plt.show()\n",
    "    \n",
    "def get_rms_err(actual_x, desired_x, t_span):\n",
    "    abs_err = np.array([np.linalg.norm(desired_x - actual_x[i, :3]) for i in range(actual_x.shape[0])]) \n",
    "    mean_err = np.mean(abs_err**2)\n",
    "    return np.sqrt(mean_err)\n",
    "\n",
    "def plot_error(errors, title='Error Over Time', xlabel='Time Steps', ylabel='Error'):\n",
    "    \"\"\"\n",
    "    Plot the error over time.\n",
    "    \n",
    "    Parameters:\n",
    "    errors (np.array): Array of errors with shape (n,)\n",
    "    title (str): Title of the plot\n",
    "    xlabel (str): Label for the x-axis\n",
    "    ylabel (str): Label for the y-axis\n",
    "    \"\"\"\n",
    "    \n",
    "    # Ensure errors is a numpy array\n",
    "    errors = np.array(errors)\n",
    "    \n",
    "    # Create a figure and axis\n",
    "    plt.figure(figsize=(10, 6))\n",
    "    \n",
    "    # Plot the errors\n",
    "    plt.plot(errors, color='blue', linewidth=2, label='Error')\n",
    "    \n",
    "    # Set titles and labels\n",
    "    plt.title(title)\n",
    "    plt.xlabel(xlabel)\n",
    "    plt.ylabel(ylabel)\n",
    "    \n",
    "    # Add grid for better readability\n",
    "    plt.grid(True)\n",
    "    \n",
    "    # Add legend\n",
    "    plt.legend()\n",
    "    \n",
    "    # Show the plot\n",
    "    plt.show()"
   ]
  },
  {
   "cell_type": "code",
   "execution_count": 5,
   "metadata": {},
   "outputs": [],
   "source": [
    "max_force = 15\n",
    "action_decoder = {\n",
    "            i: np.array([int(b) for b in f'{i:04b}']) for i in range(16)\n",
    "        }\n",
    "\n",
    "def system(model, X, t_span, robot_model):\n",
    "    global dt\n",
    "    \n",
    "    obs = np.copy(X)\n",
    "    states = np.zeros((t_span.shape[0], 6))\n",
    "    states[0, :] = X[:6]\n",
    "    step_count = 1  # Initialize step counter\n",
    "    done = False\n",
    "    \n",
    "    # go to position\n",
    "    while not done and step_count < t_span.shape[0]:\n",
    "        action, _states = model.predict(obs, deterministic=True)\n",
    "        obs, reward, done, truncated, info = robot_model.step(action)\n",
    "        states[step_count, :] = obs[:6]\n",
    "        step_count += 1\n",
    "\n",
    "    if step_count< t_span.shape[0]:\n",
    "        obs = np.hstack((states[step_count, :], X[3:6]))\n",
    "    else:\n",
    "        return states, done\n",
    "\n",
    "    # try to hold the position\n",
    "    while step_count<t_span.shape[0]:\n",
    "        action, _states = model.predict(obs, deterministic=True)\n",
    "        obs, reward, done, truncated, info = robot_model.step(action)\n",
    "        states[step_count, :] = obs[:6]\n",
    "        step_count += 1\n",
    "\n",
    "    return states, done"
   ]
  },
  {
   "cell_type": "code",
   "execution_count": 6,
   "metadata": {},
   "outputs": [],
   "source": [
    "from scipy.spatial.distance import euclidean\n",
    "from mpl_toolkits.mplot3d import Axes3D\n",
    "from matplotlib.animation import FuncAnimation\n",
    "\n",
    "def horizontal_circle_trajectory_points(t_span, h=1.0):\n",
    "    \"\"\"\n",
    "    Horizontal circle trajectory: R=0.5m, on heigth h=1m\n",
    "    \n",
    "    Parameters:\n",
    "    t_span: np.array\n",
    "    h: float\n",
    "    \"\"\"\n",
    "    R=0.5\n",
    "    h=1.0\n",
    "    n = t_span.shape[0] # n points in trajectory\n",
    "    phi = np.linspace(0, 2*np.pi, n)\n",
    "    \n",
    "    trajectory = np.zeros((n, 3))\n",
    "    trajectory[:, 0] = R*np.cos(phi) # X\n",
    "    trajectory[:, 1] = R*np.sin(phi) # Y\n",
    "    trajectory[:, 2] = h # Z\n",
    "        \n",
    "    return trajectory\n",
    "\n",
    "def horizontal_spiral_trajectory_points(t_span, h=1.0):\n",
    "    \"\"\"\n",
    "    Horizontal spiral (mirrored archimedes) trajectory: R=0.15m, on heigth h=1m\n",
    "    \n",
    "    Parameters:\n",
    "    t_span: np.array\n",
    "    h: float\n",
    "    \"\"\"\n",
    "    R=0.15\n",
    "    h=1.0\n",
    "    n = t_span.shape[0] # n points in trajectory\n",
    "    phi = np.linspace(0, 2*np.pi, n)\n",
    "    \n",
    "    trajectory = np.zeros((3*n, 3))\n",
    "    trajectory[:n, 0] = R*phi*np.cos(phi) # X\n",
    "    trajectory[:n, 1] = R*phi*np.sin(phi) # Y\n",
    "    \n",
    "    trajectory[n:2*n, 0] = R*phi[-1]*np.cos(phi) # X\n",
    "    trajectory[n:2*n, 1] = R*phi[-1]*np.sin(phi) # Y\n",
    "    \n",
    "    trajectory[2*n:3*n, 0] = R*phi[::-1]*np.cos(phi) # X\n",
    "    trajectory[2*n:3*n, 1] = R*phi[::-1]*np.sin(phi) # Y\n",
    "    \n",
    "    trajectory[:, 2] = h # Z\n",
    "        \n",
    "    return trajectory[::3]\n",
    "\n",
    "def horizontal_spiral2_trajectory_points(t_span, h=1.0):\n",
    "    \"\"\"\n",
    "    Horizontal spiral trajectory: R=0.15m, on heigth h=1m\n",
    "    \n",
    "    Parameters:\n",
    "    t_span: np.array\n",
    "    h: float\n",
    "    \"\"\"\n",
    "    R=0.45\n",
    "    a = 0.35\n",
    "    h=1.0\n",
    "    n = t_span.shape[0] # n points in trajectory\n",
    "    phi = np.linspace(0, 2*np.pi, n)\n",
    "    trajectory = np.zeros((3*n, 3))\n",
    "    \n",
    "    trajectory[:n, 1] = (a + R*np.cos(phi))*np.cos(phi) # Y\n",
    "    trajectory[:n, 0] = (a + R*np.cos(phi))*np.sin(phi) # X\n",
    "    \n",
    "    trajectory[n:2*n, 1] = (a + R)*np.cos(phi) # Y\n",
    "    trajectory[n:2*n, 0] = (a + R)*np.sin(phi) # X\n",
    "    \n",
    "    trajectory[2*n:3*n, 1] = (a + R*np.cos(phi[::-1]))*np.cos(phi) # Y\n",
    "    trajectory[2*n:3*n, 0] = (a + R*np.cos(phi[::-1]))*np.sin(phi) # X\n",
    "    \n",
    "    trajectory[:, 2] = h # Z\n",
    "        \n",
    "    return trajectory[::3]\n",
    "\n",
    "def plot_trajectory_3d(points):\n",
    "    \"\"\"\n",
    "    Plot a 3D trajectory given an array of points.\n",
    "    \n",
    "    Parameters:\n",
    "    points (np.array): Array of shape (n, 3) containing x, y, z coordinates.\n",
    "    \"\"\"\n",
    "    # Ensure the input is a numpy array\n",
    "    points = np.array(points)\n",
    "    \n",
    "    # Check if the shape is correct\n",
    "    if points.shape[1] != 3:\n",
    "        raise ValueError(\"Input array must have shape (n, 3)\")\n",
    "    \n",
    "    # Extract x, y, z coordinates\n",
    "    x, y, z = points.T\n",
    "    \n",
    "    # Create a 3D plot\n",
    "    fig = plt.figure(figsize=(10, 8))\n",
    "    ax = fig.add_subplot(111, projection='3d')\n",
    "    \n",
    "    # Plot the trajectory\n",
    "    ax.plot(x, y, z, label='Trajectory')\n",
    "    \n",
    "    # Plot start and end points\n",
    "    ax.scatter(x[0], y[0], z[0], color='green', s=100, label='Start')\n",
    "    ax.scatter(x[-1], y[-1], z[-1], color='red', s=100, label='End')\n",
    "    \n",
    "    # Set labels and title\n",
    "    ax.set_xlabel('X')\n",
    "    ax.set_ylabel('Y')\n",
    "    ax.set_zlabel('Z')\n",
    "    ax.set_title('3D Trajectory')\n",
    "    \n",
    "    # Add a legend\n",
    "    ax.legend()\n",
    "    \n",
    "    # Show the plot\n",
    "    plt.show()\n",
    "\n",
    "def follow_trajectory(model, initial_state, trajectory, robot_model, max_steps=32, dt=0.1):\n",
    "    \"\"\"\n",
    "    Function for a robot to follow a given trajectory using an RL model.\n",
    "\n",
    "    Parameters:\n",
    "    model: The RL model used for prediction\n",
    "    initial_state: Initial state of the robot (numpy array)\n",
    "    trajectory: Array of points to follow (shape: n x 3)\n",
    "    robot_model: The robot model object\n",
    "    max_steps: Maximum number of steps to simulate\n",
    "    dt: Time step for simulation\n",
    "\n",
    "    Returns:\n",
    "    states: Array of robot states throughout the simulation\n",
    "    reached_points: List of indices of reached trajectory points\n",
    "    \"\"\"\n",
    "    X = initial_state.copy()\n",
    "    states = []\n",
    "    states.append(X[:3].copy())\n",
    "    reached_points = []\n",
    "    abs_err = [0.0]  # initial point is the first trajectory point\n",
    "    robot_model.cur_state = X\n",
    "\n",
    "    # Iterate through trajectory points using tqdm\n",
    "    for target_idx in tqdm(range(1, len(trajectory)), desc=\"Following trajectory\"):\n",
    "        done = False\n",
    "        step_count = 0\n",
    "        while not done and step_count < max_steps:\n",
    "            action, _states = model.predict(X, deterministic=True)\n",
    "            X, reward, done, truncated, info = robot_model.step(action)\n",
    "            states.append(X[:3].copy())\n",
    "            step_count += 1\n",
    "\n",
    "        abs_err.append(euclidean(X[:3], trajectory[target_idx]))\n",
    "\n",
    "        # Update next target point\n",
    "        if target_idx + 1 < len(trajectory):\n",
    "            X[6:9] = trajectory[target_idx + 1]\n",
    "\n",
    "    print(f\"Reached {len(reached_points)} points\")\n",
    "    return np.array(states), reached_points, np.array(abs_err)\n",
    "\n",
    "def visualize_simulation(trajectory, robot_states, reached_points, interval=100, save_animation=False, gif_name='base_model'):\n",
    "    \"\"\"\n",
    "    Visualize the simulation of the robot following a trajectory.\n",
    "    \n",
    "    Parameters:\n",
    "    trajectory: Array of target points (shape: n x 3)\n",
    "    robot_states: Array of robot states throughout the simulation (shape: m x 6)\n",
    "    reached_points: List of indices of reached trajectory points\n",
    "    interval: Interval between frames in milliseconds\n",
    "    save_animation: Boolean, whether to save the animation as a gif\n",
    "    \"\"\"\n",
    "    \n",
    "    # Extract robot positions from states\n",
    "    robot_positions = robot_states[:, :3]\n",
    "    if robot_positions.ndim == 3:\n",
    "        robot_positions = robot_positions.reshape(-1, 3)\n",
    "    \n",
    "    # Create the figure and 3D axis\n",
    "    fig = plt.figure(figsize=(12, 9))\n",
    "    ax = fig.add_subplot(111, projection='3d')\n",
    "    \n",
    "    # Plot the target trajectory\n",
    "    ax.plot(trajectory[:, 0], trajectory[:, 1], trajectory[:, 2], 'b--', label='Target Trajectory')\n",
    "    \n",
    "    # Plot start and end points of the target trajectory\n",
    "    ax.scatter(trajectory[0, 0], trajectory[0, 1], trajectory[0, 2], color='green', s=100, label='Start')\n",
    "    ax.scatter(trajectory[-1, 0], trajectory[-1, 1], trajectory[-1, 2], color='red', s=100, label='End')\n",
    "    \n",
    "    # Initialize the robot position plot\n",
    "    robot_plot, = ax.plot([], [], [], 'ro-', label='Robot Path', markersize=8)\n",
    "    current_pos, = ax.plot([], [], [], 'ko', markersize=10, label='Current Position')\n",
    "    \n",
    "    # Set labels and title\n",
    "    ax.set_xlabel('X')\n",
    "    ax.set_ylabel('Y')\n",
    "    ax.set_zlabel('Z')\n",
    "    ax.set_title('Robot Trajectory Simulation')\n",
    "    ax.legend()\n",
    "    \n",
    "    # Set axis limits\n",
    "    ax.set_xlim([min(trajectory[:, 0].min(), robot_positions[:, 0].min()) - 1,\n",
    "                 max(trajectory[:, 0].max(), robot_positions[:, 0].max()) + 1])\n",
    "    ax.set_ylim([min(trajectory[:, 1].min(), robot_positions[:, 1].min()) - 1,\n",
    "                 max(trajectory[:, 1].max(), robot_positions[:, 1].max()) + 1])\n",
    "    ax.set_zlim([min(trajectory[:, 2].min(), robot_positions[:, 2].min()) - 1,\n",
    "                 max(trajectory[:, 2].max(), robot_positions[:, 2].max()) + 1])\n",
    "    \n",
    "    # Animation update function\n",
    "    def update(frame):\n",
    "        robot_plot.set_data(robot_positions[:frame, 0], robot_positions[:frame, 1])\n",
    "        robot_plot.set_3d_properties(robot_positions[:frame, 2])\n",
    "        current_pos.set_data([robot_positions[frame, 0]], [robot_positions[frame, 1]])\n",
    "        current_pos.set_3d_properties([robot_positions[frame, 2]])\n",
    "        \n",
    "        # Highlight reached points\n",
    "        for point in reached_points:\n",
    "            if frame >= point:\n",
    "                ax.scatter(trajectory[point, 0], trajectory[point, 1], trajectory[point, 2], \n",
    "                           color='green', s=100, alpha=0.5)\n",
    "        \n",
    "        return robot_plot, current_pos\n",
    "    \n",
    "    # Create the animation\n",
    "    anim = FuncAnimation(fig, update, frames=len(robot_positions), interval=interval, blit=True)\n",
    "    \n",
    "    if save_animation:\n",
    "        anim.save(f'visualizations/robot_trajectory_simulation_{gif_name}.gif', writer='pillow')\n",
    "    \n",
    "    plt.show()"
   ]
  },
  {
   "cell_type": "markdown",
   "metadata": {},
   "source": [
    "## TRPO on different `dt`'s\n",
    "\n",
    "all models were learned on `dt=0.1` sec"
   ]
  },
  {
   "cell_type": "code",
   "execution_count": 7,
   "metadata": {},
   "outputs": [
    {
     "name": "stdout",
     "output_type": "stream",
     "text": [
      "== CURRENT SYSTEM INFO ==\n",
      "- OS: macOS-15.2-arm64-arm-64bit Darwin Kernel Version 24.2.0: Fri Dec  6 19:01:59 PST 2024; root:xnu-11215.61.5~2/RELEASE_ARM64_T6000\n",
      "- Python: 3.9.20\n",
      "- Stable-Baselines3: 2.3.2\n",
      "- PyTorch: 2.4.1.post3\n",
      "- GPU Enabled: False\n",
      "- Numpy: 1.23.1\n",
      "- Cloudpickle: 3.1.0\n",
      "- Gymnasium: 0.29.1\n",
      "- OpenAI Gym: 0.26.1\n",
      "\n",
      "== SAVED MODEL SYSTEM INFO ==\n",
      "- OS: Linux-5.15.0-125-generic-x86_64-with-glibc2.35 # 135-Ubuntu SMP Fri Sep 27 13:53:58 UTC 2024\n",
      "- Python: 3.10.12\n",
      "- Stable-Baselines3: 2.4.0\n",
      "- PyTorch: 2.4.0+cu124\n",
      "- GPU Enabled: True\n",
      "- Numpy: 1.26.1\n",
      "- Cloudpickle: 3.0.0\n",
      "- Gymnasium: 1.0.0\n",
      "\n"
     ]
    }
   ],
   "source": [
    "robot_model_trpo = CDPR4_env(pos=np.array([.0, .0, 1.]), is_continuous=True)\n",
    "modelSB3_TRPO = TRPO.load(\"models/trpo_cdpr4_model.zip\", env=robot_model_trpo, custom_objects={'observation_space': robot_model_trpo.observation_space, 'action_space': robot_model_trpo.action_space}, print_system_info=True)"
   ]
  },
  {
   "cell_type": "code",
   "execution_count": 8,
   "metadata": {},
   "outputs": [
    {
     "data": {
      "text/plain": [
       "0.1"
      ]
     },
     "execution_count": 8,
     "metadata": {},
     "output_type": "execute_result"
    }
   ],
   "source": [
    "robot_model_trpo.dt"
   ]
  },
  {
   "cell_type": "code",
   "execution_count": 25,
   "metadata": {},
   "outputs": [
    {
     "data": {
      "image/png": "[encoded data removed]",
      "text/plain": [
       "<Figure size 1000x600 with 1 Axes>"
      ]
     },
     "metadata": {},
     "output_type": "display_data"
    }
   ],
   "source": [
    "# change dt to 0.05\n",
    "robot_model_trpo.dt = 0.05\n",
    "eps = 500\n",
    "t_span = np.linspace(0, robot_model_trpo.dt*eps, eps)\n",
    "X=np.array([0,0,1,0,0,0], dtype=np.float32)\n",
    "des_pos = np.array([0,0,2], dtype=np.float32)\n",
    "X = np.hstack([X, des_pos])\n",
    "robot_model_trpo.cur_state = X\n",
    "\n",
    "sol_trpo, d = system(modelSB3_TRPO, X, t_span, robot_model_trpo)\n",
    "plot_states(sol_trpo, t_span)"
   ]
  },
  {
   "cell_type": "code",
   "execution_count": 26,
   "metadata": {},
   "outputs": [
    {
     "data": {
      "image/png": "[encoded data removed]",
      "text/plain": [
       "<Figure size 1000x600 with 1 Axes>"
      ]
     },
     "metadata": {},
     "output_type": "display_data"
    }
   ],
   "source": [
    "plot_position_error(sol_trpo, des_pos, t_span)"
   ]
  },
  {
   "cell_type": "markdown",
   "metadata": {},
   "source": [
    "### Circle trajectory"
   ]
  },
  {
   "cell_type": "code",
   "execution_count": 27,
   "metadata": {},
   "outputs": [
    {
     "name": "stderr",
     "output_type": "stream",
     "text": [
      "Following trajectory: 100%|██████████| 19/19 [00:00<00:00, 305.23it/s]"
     ]
    },
    {
     "name": "stdout",
     "output_type": "stream",
     "text": [
      "Reached 0 points\n"
     ]
    },
    {
     "name": "stderr",
     "output_type": "stream",
     "text": [
      "\n"
     ]
    }
   ],
   "source": [
    "# circle trajectory of 20 points\n",
    "traj1 = horizontal_circle_trajectory_points(t_span = np.linspace(0, 10, 20)) \n",
    "\n",
    "robot_model_trpo.cur_state = np.hstack((traj1[0], \n",
    "                                   np.zeros(3),\n",
    "                                   traj1[1]))\n",
    "\n",
    "states, reached_p, error = follow_trajectory(model=modelSB3_TRPO, \n",
    "                  initial_state=np.hstack((traj1[0], \n",
    "                                   np.zeros(3),\n",
    "                                   traj1[1])), \n",
    "                  trajectory=traj1, \n",
    "                  robot_model=robot_model_trpo)"
   ]
  },
  {
   "cell_type": "code",
   "execution_count": 28,
   "metadata": {},
   "outputs": [
    {
     "data": {
      "image/png": "[encoded data removed]",
      "text/plain": [
       "<Figure size 1000x600 with 1 Axes>"
      ]
     },
     "metadata": {},
     "output_type": "display_data"
    }
   ],
   "source": [
    "plot_error(error)"
   ]
  },
  {
   "cell_type": "code",
   "execution_count": 29,
   "metadata": {},
   "outputs": [
    {
     "data": {
      "text/plain": [
       "0.010772977004006505"
      ]
     },
     "execution_count": 29,
     "metadata": {},
     "output_type": "execute_result"
    }
   ],
   "source": [
    "# RMS Error\n",
    "mean_err = np.mean(error**2)\n",
    "np.sqrt(mean_err)"
   ]
  },
  {
   "cell_type": "markdown",
   "metadata": {},
   "source": [
    "### Collecting data for different `dt`\n",
    "\n",
    "dt array = [0.2, 0.15, 0.1, 0.05, 0.025, 1/60, 0.01, 1/400]"
   ]
  }
 ],
 "metadata": {
  "kernelspec": {
   "display_name": "cdpr_mujoco",
   "language": "python",
   "name": "python3"
  },
  "language_info": {
   "codemirror_mode": {
    "name": "ipython",
    "version": 3
   },
   "file_extension": ".py",
   "mimetype": "text/x-python",
   "name": "python",
   "nbconvert_exporter": "python",
   "pygments_lexer": "ipython3",
   "version": "3.9.20"
  }
 },
 "nbformat": 4,
 "nbformat_minor": 2
}
